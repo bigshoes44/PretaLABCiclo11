{
  "nbformat": 4,
  "nbformat_minor": 0,
  "metadata": {
    "colab": {
      "provenance": [],
      "include_colab_link": true
    },
    "kernelspec": {
      "name": "python3",
      "display_name": "Python 3"
    },
    "language_info": {
      "name": "python"
    }
  },
  "cells": [
    {
      "cell_type": "markdown",
      "metadata": {
        "id": "view-in-github",
        "colab_type": "text"
      },
      "source": [
        "<a href=\"https://colab.research.google.com/github/bigshoes44/PretaLABCiclo11/blob/main/Exerc%C3%ADcio_Final.ipynb\" target=\"_parent\"><img src=\"https://colab.research.google.com/assets/colab-badge.svg\" alt=\"Open In Colab\"/></a>"
      ]
    },
    {
      "cell_type": "code",
      "source": [
        "#Ranking de medalhas:\n",
        "#Brasil: 7 medalhas\n",
        "#França: 6 medalhas\n",
        "#Argentina: 3 medalhas\n",
        "\n",
        "# Resposta aqui\n",
        "pais = input('Digite o nome do país (ou sair pra encerrar):')\n",
        "while pais != 'sair':\n",
        "\n",
        "    ouro = int(input('Digite o número de medalhas de ouro: '))\n",
        "    prata = int(input('Digite o número de medalhas de prata: '))\n",
        "    bronze = int(input('Digite o número de medalhas de bronze: '))\n",
        "    total = ouro + prata + bronze\n",
        "    print(f'O pais {pais} possui {total} medalhas')\n",
        "    pais = input('Digite o nome do país (ou sair pra encerrar):')\n",
        "\n",
        "    if pais == 'sair':\n",
        "        break\n",
        "else:\n",
        "\n",
        "    print('Ranking de medalhas: ')\n",
        "    print(f'{pais} total {total}')"
      ],
      "metadata": {
        "id": "gCq_KLHzZSzb",
        "outputId": "23f94983-21c6-4d7a-f3ad-7f40c168b864",
        "colab": {
          "base_uri": "https://localhost:8080/",
          "height": 106
        }
      },
      "execution_count": 60,
      "outputs": [
        {
          "output_type": "error",
          "ename": "IndentationError",
          "evalue": "expected an indented block after 'if' statement on line 17 (<ipython-input-60-e3ce860ed49f>, line 19)",
          "traceback": [
            "\u001b[0;36m  File \u001b[0;32m\"<ipython-input-60-e3ce860ed49f>\"\u001b[0;36m, line \u001b[0;32m19\u001b[0m\n\u001b[0;31m    print('Ranking de medalhas:')\u001b[0m\n\u001b[0m    ^\u001b[0m\n\u001b[0;31mIndentationError\u001b[0m\u001b[0;31m:\u001b[0m expected an indented block after 'if' statement on line 17\n"
          ]
        }
      ]
    },
    {
      "cell_type": "markdown",
      "source": [
        "# Contagem de Medalhas\n",
        "\n",
        "Crie um programa que receba o número de medalhas de ouro, prata e bronze de um país nas Olimpíadas e calcule o total de medalhas.\n",
        "Quando escrever 'sair', o programa deverá encerrar e mostrar na tela o ranking de medalhas no formato:"
      ],
      "metadata": {
        "id": "RQN1e5FZY6SZ"
      }
    }
  ]
}