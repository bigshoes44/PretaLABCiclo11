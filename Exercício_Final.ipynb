{
  "nbformat": 4,
  "nbformat_minor": 0,
  "metadata": {
    "colab": {
      "provenance": [],
      "include_colab_link": true
    },
    "kernelspec": {
      "name": "python3",
      "display_name": "Python 3"
    },
    "language_info": {
      "name": "python"
    }
  },
  "cells": [
    {
      "cell_type": "markdown",
      "metadata": {
        "id": "view-in-github",
        "colab_type": "text"
      },
      "source": [
        "<a href=\"https://colab.research.google.com/github/bigshoes44/PretaLABCiclo11/blob/main/Exerc%C3%ADcio_Final.ipynb\" target=\"_parent\"><img src=\"https://colab.research.google.com/assets/colab-badge.svg\" alt=\"Open In Colab\"/></a>"
      ]
    },
    {
      "cell_type": "code",
      "source": [
        "#Ranking de medalhas:\n",
        "#Brasil: 7 medalhas\n",
        "#França: 6 medalhas\n",
        "#Argentina: 3 medalhas\n",
        "\n",
        "# Resposta aqui\n",
        "pais = input('Digite o nome do país (ou sair pra encerrar):')\n",
        "while pais != 'sair':\n",
        "\n",
        "    ouro = int(input('Digite o número de medalhas de ouro: '))\n",
        "    prata = int(input('Digite o número de medalhas de prata: '))\n",
        "    bronze = int(input('Digite o número de medalhas de bronze: '))\n",
        "    total = ouro + prata + bronze\n",
        "    print(f'O pais {pais} possui {total} medalhas')\n",
        "    pais = input('Digite o nome do país (ou sair pra encerrar):')\n",
        "\n",
        "    if pais == 'sair':\n",
        "        break\n",
        "else:\n",
        "\n",
        "  print('Ranking de medalhas: ')\n",
        "  print(f'{pais} total {total}')"
      ],
      "metadata": {
        "id": "gCq_KLHzZSzb",
        "colab": {
          "base_uri": "https://localhost:8080/"
        },
        "outputId": "014cc48a-1ad7-4274-bde4-779e04f73fa2"
      },
      "execution_count": 61,
      "outputs": [
        {
          "name": "stdout",
          "output_type": "stream",
          "text": [
            "Digite o nome do país (ou sair pra encerrar):Brasil\n",
            "Digite o número de medalhas de ouro: 10\n",
            "Digite o número de medalhas de prata: 20\n",
            "Digite o número de medalhas de bronze: 30\n",
            "O pais Brasil possui 60 medalhas\n",
            "Digite o nome do país (ou sair pra encerrar):China\n",
            "Digite o número de medalhas de ouro: 10\n",
            "Digite o número de medalhas de prata: 20\n",
            "Digite o número de medalhas de bronze: 30\n",
            "O pais China possui 60 medalhas\n",
            "Digite o nome do país (ou sair pra encerrar):sair\n"
          ]
        }
      ]
    },
    {
      "cell_type": "markdown",
      "source": [
        "# Contagem de Medalhas\n",
        "\n",
        "Crie um programa que receba o número de medalhas de ouro, prata e bronze de um país nas Olimpíadas e calcule o total de medalhas.\n",
        "Quando escrever 'sair', o programa deverá encerrar e mostrar na tela o ranking de medalhas no formato:"
      ],
      "metadata": {
        "id": "RQN1e5FZY6SZ"
      }
    }
  ]
}