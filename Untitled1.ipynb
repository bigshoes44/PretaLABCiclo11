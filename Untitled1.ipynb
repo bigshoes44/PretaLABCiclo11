{
  "nbformat": 4,
  "nbformat_minor": 0,
  "metadata": {
    "colab": {
      "provenance": [],
      "authorship_tag": "ABX9TyOBrsVoRzlSGkm68zDbzxxP",
      "include_colab_link": true
    },
    "kernelspec": {
      "name": "python3",
      "display_name": "Python 3"
    },
    "language_info": {
      "name": "python"
    }
  },
  "cells": [
    {
      "cell_type": "markdown",
      "metadata": {
        "id": "view-in-github",
        "colab_type": "text"
      },
      "source": [
        "<a href=\"https://colab.research.google.com/github/bigshoes44/PretaLABCiclo11/blob/main/Untitled1.ipynb\" target=\"_parent\"><img src=\"https://colab.research.google.com/assets/colab-badge.svg\" alt=\"Open In Colab\"/></a>"
      ]
    },
    {
      "cell_type": "code",
      "execution_count": null,
      "metadata": {
        "id": "Murrh4f-Rnj_"
      },
      "outputs": [],
      "source": []
    },
    {
      "cell_type": "code",
      "source": [
        "!python --version"
      ],
      "metadata": {
        "colab": {
          "base_uri": "https://localhost:8080/"
        },
        "id": "b1JqoWhR8fC2",
        "outputId": "b45b94b6-2dc1-4493-8029-5a6bf530726f"
      },
      "execution_count": null,
      "outputs": [
        {
          "output_type": "stream",
          "name": "stdout",
          "text": [
            "Python 3.10.12\n"
          ]
        }
      ]
    },
    {
      "cell_type": "code",
      "source": [
        "#Abrindo o arquivo para leitura\n",
        "arquivo = open(\"/content/Textos/boasvindas.txt\", \"r\")"
      ],
      "metadata": {
        "id": "a7SxgdwR85gP"
      },
      "execution_count": null,
      "outputs": []
    },
    {
      "cell_type": "code",
      "source": [
        "#Vendo o tipo de arquivo\n",
        "print(arquivo.read())"
      ],
      "metadata": {
        "colab": {
          "base_uri": "https://localhost:8080/"
        },
        "id": "BLhHnNdZ_Bhf",
        "outputId": "b2b3d791-07e8-475f-f828-aa319db749ad"
      },
      "execution_count": null,
      "outputs": [
        {
          "output_type": "stream",
          "name": "stdout",
          "text": [
            "Fico muito feliz que você tenha iniciado esse curso, espero que vocês curtam esse aprendizado e não tenham medo de perguntar\n"
          ]
        }
      ]
    },
    {
      "cell_type": "code",
      "source": [
        "#contar o número de caracteres\n",
        "print(arquivo.tell())"
      ],
      "metadata": {
        "colab": {
          "base_uri": "https://localhost:8080/"
        },
        "id": "tsZpSz4E_ZWw",
        "outputId": "3eb530c5-0a94-4723-d6d4-c9e4ac21fdc0"
      },
      "execution_count": null,
      "outputs": [
        {
          "output_type": "stream",
          "name": "stdout",
          "text": [
            "127\n"
          ]
        }
      ]
    },
    {
      "cell_type": "code",
      "source": [
        "#retornar para o inicio do arquivo\n",
        "print(arquivo.seek(0,0))"
      ],
      "metadata": {
        "colab": {
          "base_uri": "https://localhost:8080/"
        },
        "id": "ygwbSkKSB_JJ",
        "outputId": "23267d57-0383-4e32-f54e-360d543bab87"
      },
      "execution_count": null,
      "outputs": [
        {
          "output_type": "stream",
          "name": "stdout",
          "text": [
            "0\n"
          ]
        }
      ]
    },
    {
      "cell_type": "code",
      "source": [
        "print(arquivo.read())"
      ],
      "metadata": {
        "colab": {
          "base_uri": "https://localhost:8080/"
        },
        "id": "0580w5tqCL9X",
        "outputId": "0dd4aa47-357f-4ec9-f12b-97e96084d66a"
      },
      "execution_count": null,
      "outputs": [
        {
          "output_type": "stream",
          "name": "stdout",
          "text": [
            "Fico muito feliz que você tenha iniciado esse curso, espero que vocês curtam esse aprendizado e não tenham medo de perguntar\n"
          ]
        }
      ]
    },
    {
      "cell_type": "code",
      "source": [
        "#lendo os primeiros 10 caracteres\n",
        "print(arquivo.read(10))"
      ],
      "metadata": {
        "colab": {
          "base_uri": "https://localhost:8080/"
        },
        "id": "JPfrEHBpCTaL",
        "outputId": "4e56fff4-36e3-4289-c767-0875dcf8eead"
      },
      "execution_count": null,
      "outputs": [
        {
          "output_type": "stream",
          "name": "stdout",
          "text": [
            "Fico muito\n"
          ]
        }
      ]
    },
    {
      "cell_type": "code",
      "source": [
        "#abrindo arquivo para gravação\n",
        "arquivo2 = open(\"/content/Textos/boasvindas.txt\", \"w\")"
      ],
      "metadata": {
        "id": "bxwLQnJoGfEK"
      },
      "execution_count": null,
      "outputs": []
    },
    {
      "cell_type": "code",
      "source": [
        "#lendo arquivos\n",
        "print(arquivo2.read())\n"
      ],
      "metadata": {
        "colab": {
          "base_uri": "https://localhost:8080/"
        },
        "id": "ePjp8IaMGu42",
        "outputId": "add46366-ea2b-440d-d458-a0a353531c3b"
      },
      "execution_count": null,
      "outputs": [
        {
          "output_type": "stream",
          "name": "stdout",
          "text": [
            "Olá, tudo bem?\n"
          ]
        }
      ]
    },
    {
      "cell_type": "code",
      "source": [
        "#gravando arquivo\n",
        "arquivo2.write(\"Olá, tudo bem?\")\n"
      ],
      "metadata": {
        "colab": {
          "base_uri": "https://localhost:8080/"
        },
        "id": "30MMM2ohHAMd",
        "outputId": "3a704afe-0d28-4fbe-d01a-cde58dd99857"
      },
      "execution_count": null,
      "outputs": [
        {
          "output_type": "execute_result",
          "data": {
            "text/plain": [
              "14"
            ]
          },
          "metadata": {},
          "execution_count": 14
        }
      ]
    },
    {
      "cell_type": "code",
      "source": [
        "#Fechando o arquivo\n",
        "arquivo2.close()"
      ],
      "metadata": {
        "id": "gmQn969CHOT8"
      },
      "execution_count": null,
      "outputs": []
    },
    {
      "cell_type": "code",
      "source": [
        "#Vendo o arquivo escrito\n",
        "arquivo2 = open(\"/content/Textos/boasvindas.txt\", \"r\")"
      ],
      "metadata": {
        "id": "6mzp-9yMHY-O"
      },
      "execution_count": null,
      "outputs": []
    },
    {
      "cell_type": "code",
      "source": [
        "#Acrescentando conteúdo\n",
        "arquivo2 = open(\"/content/Textos/boasvindas.txt\", \"a\")"
      ],
      "metadata": {
        "id": "PYNLUAJFJ0j_"
      },
      "execution_count": null,
      "outputs": []
    },
    {
      "cell_type": "code",
      "source": [
        "#Escrevendo o texto\n",
        "arquivo2.write(\"Tudo bem com você?\")"
      ],
      "metadata": {
        "colab": {
          "base_uri": "https://localhost:8080/"
        },
        "id": "wKWLz8nzKRaA",
        "outputId": "252712cd-ef70-45e3-d578-5e4604831b95"
      },
      "execution_count": null,
      "outputs": [
        {
          "output_type": "execute_result",
          "data": {
            "text/plain": [
              "18"
            ]
          },
          "metadata": {},
          "execution_count": 20
        }
      ]
    },
    {
      "cell_type": "code",
      "source": [
        "#Fechando o arquivo\n",
        "arquivo2.close()"
      ],
      "metadata": {
        "id": "8u-0wcaZKYkO"
      },
      "execution_count": null,
      "outputs": []
    },
    {
      "cell_type": "code",
      "source": [
        "arquivo2 = open(\"/content/Textos/boasvindas.txt\", \"r\")"
      ],
      "metadata": {
        "id": "CcAtEatwKojk"
      },
      "execution_count": null,
      "outputs": []
    },
    {
      "cell_type": "code",
      "source": [
        "print(arquivo2.read())"
      ],
      "metadata": {
        "colab": {
          "base_uri": "https://localhost:8080/"
        },
        "id": "8KytkELwKwn_",
        "outputId": "2f7bc054-749e-4ae7-c5ee-e0bcf59e3e7b"
      },
      "execution_count": null,
      "outputs": [
        {
          "output_type": "stream",
          "name": "stdout",
          "text": [
            "Olá, tudo bem?Tudo bem com você?\n"
          ]
        }
      ]
    },
    {
      "cell_type": "code",
      "source": [],
      "metadata": {
        "id": "-966plJnK58u"
      },
      "execution_count": null,
      "outputs": []
    },
    {
      "cell_type": "code",
      "source": [],
      "metadata": {
        "id": "MCAjOLf0NaS-"
      },
      "execution_count": null,
      "outputs": []
    }
  ]
}