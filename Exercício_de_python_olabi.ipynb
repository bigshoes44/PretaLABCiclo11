{
  "nbformat": 4,
  "nbformat_minor": 0,
  "metadata": {
    "colab": {
      "provenance": []
    },
    "kernelspec": {
      "name": "python3",
      "display_name": "Python 3"
    },
    "language_info": {
      "name": "python"
    }
  },
  "cells": [
    {
      "cell_type": "markdown",
      "source": [
        "#Diversidade no Trabalho e Tecnologia"
      ],
      "metadata": {
        "id": "7G_k2AAI-UaP"
      }
    },
    {
      "cell_type": "code",
      "source": [],
      "metadata": {
        "id": "afUAdS-6VYJ8"
      },
      "execution_count": null,
      "outputs": []
    },
    {
      "cell_type": "markdown",
      "source": [
        "Neste exercício, o grupo vai criar um conjunto de módulos e pacotes Python que simula a coleta e o processamento de dados sobre a diversidade em empresas de tecnologia. O objetivo é trabalhar com a criação de pacotes e módulos, e praticar a leitura e escrita de arquivos de texto (CSV, txt, etc.) em Python.\n",
        "\n",
        "Vão usar o que aprenderam e também usar as habilidades que vocês já tem para fazer esse trabalho.\n",
        "Façam grupo de pelo menos 4 pessoas e cada pessoa vai ficar responsável por algumas tarefas:\n",
        "**Tarefa:** Utilizar o GitHub para colaborar no desenvolvimento do pacote. Cada aluna pode criar uma branch, implementar suas funções e enviar pull requests para revisão.\n",
        "**Exemplo:** Criar um repositório colaborativo onde cada aluna pode contribuir com uma parte do pacote e utilizar o controle de versão para acompanhar as mudanças.\n",
        "\n",
        "**Módulo 1: Coleta de Dados**\n",
        "\n",
        "  **Tarefa:** Criar um módulo chamado `coleta_dados.py` que contenha funções para ler arquivos CSV que simulam a coleta de dados sobre diversidade nas empresas. Cada aluna será responsável por trabalhar com um arquivo que contenha dados de diferentes empresa.\n",
        "  \n",
        "  **Exemplo de código:**\n",
        "  \n",
        "```\n",
        "import csv\n",
        "\n",
        "def ler_dados_diversidade(arquivo_csv):\n",
        "    with open(arquivo_csv, mode='r') as file:\n",
        "        reader = csv.reader(file)\n",
        "        dados = [row for row in reader]\n",
        "        return dados\n",
        "```\n",
        "\n",
        "\n",
        "\n"
      ],
      "metadata": {
        "id": "iFa8XX0U-ezy"
      }
    },
    {
      "cell_type": "markdown",
      "source": [
        "Podem criar CSV no google planilha ou pegar um pronto na internet"
      ],
      "metadata": {
        "id": "QZfPjI0YAZib"
      }
    },
    {
      "cell_type": "markdown",
      "source": [
        "#**Módulo 2 - Processamento de Dados**\n"
      ],
      "metadata": {
        "id": "YoJ7JnFVAlri"
      }
    },
    {
      "cell_type": "markdown",
      "source": [
        "\n",
        " **Tarefa:** Desenvolver um módulo chamado `processamento_dados.py`, onde serão processadas as informações lidas no primeiro módulo. Funções para calcular proporções, médias e categorizações dos dados **(ex.: porcentagem de mulheres na equipe, diversidade racial).**\n",
        "\n",
        "**Exemplo de código:**\n",
        "\n",
        "\n",
        "```\n",
        "def calcular_porcentagem_genero(dados):\n",
        "    total = len(dados)\n",
        "    mulheres = sum(1 for linha in dados if linha[1] == 'Feminino')\n",
        "    return (mulheres / total) * 100\n",
        "\n",
        "```\n",
        "\n"
      ],
      "metadata": {
        "id": "gwCaE7jtA3rg"
      }
    },
    {
      "cell_type": "markdown",
      "source": [
        "#**Módulo 3: Manuseio e Escrita de Arquivos**"
      ],
      "metadata": {
        "id": "XjqzRNpyCVtt"
      }
    },
    {
      "cell_type": "markdown",
      "source": [
        "**Tarefa:** Criar um módulo `escrita_dados.py` que gera relatórios com os resultados das análises de diversidade, gravando essas informações em um arquivo de texto ou CSV.\n",
        "\n",
        "**Exemplo de código:**\n",
        "\n",
        "\n",
        "```\n",
        "def salvar_relatorio(caminho_arquivo, dados):\n",
        "    with open(caminho_arquivo, 'w') as file:\n",
        "        file.write(f\"Relatório de Diversidade:\\n{dados}\")\n",
        "\n",
        "```\n",
        "\n"
      ],
      "metadata": {
        "id": "daygfjD7CdJb"
      }
    },
    {
      "cell_type": "markdown",
      "source": [
        "# Criação de Pacotes e Modularização\n",
        "\n",
        "**Tarefa:** Organizar o código criado em um pacote Python. O pacote deve conter os **módulos coleta_dados**, **processamento_dados** e **escrita_dados**. As alunas devem aprender como importar módulos e como organizar o código de forma limpa e reutilizável.\n",
        "\n",
        "**Exemplo de importação:**\n",
        "\n",
        "\n",
        "```\n",
        "from diversidade_empresa.coleta_dados import ler_dados_diversidade\n",
        "from diversidade_empresa.processamento_dados import calcular_porcentagem_genero\n",
        "from diversidade_empresa.escrita_dados import salvar_relatorio\n",
        "\n",
        "```\n",
        "\n"
      ],
      "metadata": {
        "id": "Wj4MLc_GDBZq"
      }
    }
  ]
}